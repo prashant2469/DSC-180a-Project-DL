{
  "cells": [
    {
      "cell_type": "markdown",
      "metadata": {},
      "source": [
        "# Week 5 Research — Long-Run Optimizer Study (SGD vs Adam) on CNN/ResNet\n",
        "\n",
        "This notebook runs longer experiments comparing SGD vs Adam/AdamW on TinyCNN and TinyResNet using larger datasets and more epochs. It saves inline plots and exports high-res images for Notion.\n",
        "\n",
        "Goals this week:\n",
        "- Longer runs (30–60 epochs) to observe convergence and stability\n",
        "- Larger datasets (synthetic heavy-tailed; optional CIFAR/TinyImageNet if available)\n",
        "- Compare SGD+Momentum vs AdamW\n",
        "- Export plots to `reports/scaling_validation_v3/week5_plots/`\n",
        "\n",
        "Tip: Use the FAST_RUN toggle to scale down for quick iteration.\n",
        "\n"
      ]
    },
    {
      "cell_type": "code",
      "execution_count": 1,
      "metadata": {},
      "outputs": [
        {
          "name": "stdout",
          "output_type": "stream",
          "text": [
            "Using device: cpu\n"
          ]
        }
      ],
      "source": [
        "import math\n",
        "import time\n",
        "from pathlib import Path\n",
        "from dataclasses import dataclass\n",
        "from typing import Dict, Any, List, Optional, Tuple\n",
        "\n",
        "import numpy as np\n",
        "import pandas as pd\n",
        "import matplotlib.pyplot as plt\n",
        "import seaborn as sns\n",
        "\n",
        "import torch\n",
        "import torch.nn as nn\n",
        "import torch.nn.functional as F\n",
        "from torch.utils.data import Dataset, DataLoader, random_split\n",
        "\n",
        "# Fast iteration switch\n",
        "FAST_RUN = False  # set True to shrink epochs/dataset while prototyping\n",
        "\n",
        "# Reproducibility\n",
        "SEED = 2025\n",
        "np.random.seed(SEED)\n",
        "torch.manual_seed(SEED)\n",
        "\n",
        "device = torch.device(\"cuda\" if torch.cuda.is_available() else \"cpu\")\n",
        "print(\"Using device:\", device)\n",
        "\n",
        "# Output dirs\n",
        "OUTPUT_DIR = Path(\"reports/scaling_validation_v3\")\n",
        "PLOT_DIR = OUTPUT_DIR / \"week5_plots\"\n",
        "OUTPUT_DIR.mkdir(parents=True, exist_ok=True)\n",
        "PLOT_DIR.mkdir(parents=True, exist_ok=True)\n",
        "\n",
        "sns.set(style=\"whitegrid\", palette=\"tab10\", context=\"talk\")\n",
        "plt.rcParams[\"figure.dpi\"] = 120\n"
      ]
    },
    {
      "cell_type": "code",
      "execution_count": 2,
      "metadata": {},
      "outputs": [
        {
          "name": "stdout",
          "output_type": "stream",
          "text": [
            "torchvision available — CIFAR10/TinyImageNet option enabled\n"
          ]
        }
      ],
      "source": [
        "# --- Heavy-tail utils and synthetic image builders ---\n",
        "\n",
        "def zipf_probs(num_classes: int, s: float = 1.0) -> np.ndarray:\n",
        "\tindices = np.arange(1, num_classes + 1, dtype=np.float64)\n",
        "\tunnorm = 1.0 / np.power(indices, s)\n",
        "\tprobs = unnorm / unnorm.sum()\n",
        "\treturn probs\n",
        "\n",
        "\n",
        "def make_heavy_tailed_labels(n: int, c: int, s: float = 1.0, min_per_class: int = 1) -> np.ndarray:\n",
        "\tpi = zipf_probs(c, s)\n",
        "\tlabels: List[int] = []\n",
        "\treserve = min_per_class * c\n",
        "\tif reserve <= n:\n",
        "\t\tfor k in range(c):\n",
        "\t\t\tlabels.extend([k] * min_per_class)\n",
        "\t\tremaining = n - reserve\n",
        "\t\tif remaining > 0:\n",
        "\t\t\tlabels.extend(np.random.choice(c, size=remaining, p=pi))\n",
        "\telse:\n",
        "\t\tlabels = list(np.random.choice(c, size=n, p=pi))\n",
        "\tlabels_arr = np.array(labels, dtype=np.int64)\n",
        "\tnp.random.shuffle(labels_arr)\n",
        "\treturn labels_arr\n",
        "\n",
        "\n",
        "def frequency_groups(y: np.ndarray, c: Optional[int] = None, n_groups: int = 10) -> List[np.ndarray]:\n",
        "\tif c is None:\n",
        "\t\tc = int(y.max()) + 1\n",
        "\tcounts = np.bincount(y, minlength=c)\n",
        "\torder = np.argsort(-counts)\n",
        "\tcum = counts[order].cumsum()\n",
        "\ttotal = counts.sum()\n",
        "\tgroups: List[np.ndarray] = []\n",
        "\ttarget = total / n_groups\n",
        "\tstart = 0\n",
        "\tfor g in range(n_groups - 1):\n",
        "\t\tend = np.searchsorted(cum, (g + 1) * target)\n",
        "\t\tgroups.append(order[start:end])\n",
        "\t\tstart = end\n",
        "\tgroups.append(order[start:])\n",
        "\treturn groups\n",
        "\n",
        "\n",
        "class SimpleImageDataset(Dataset):\n",
        "\tdef __init__(self, images: List[np.ndarray], labels: List[int]):\n",
        "\t\tself.X = torch.from_numpy(np.stack(images)).unsqueeze(1).float()\n",
        "\t\tself.y = torch.from_numpy(np.array(labels, dtype=np.int64))\n",
        "\tdef __len__(self) -> int:\n",
        "\t\treturn self.X.shape[0]\n",
        "\tdef __getitem__(self, idx: int) -> Tuple[torch.Tensor, torch.Tensor]:\n",
        "\t\treturn self.X[idx], self.y[idx]\n",
        "\n",
        "\n",
        "def make_synthetic_image(cls: int, H: int = 32, W: int = 32, rng: Optional[np.random.RandomState] = None) -> np.ndarray:\n",
        "\tif rng is None:\n",
        "\t\trng = np.random.RandomState(0)\n",
        "\timg = rng.rand(H, W) * 0.1\n",
        "\tk = cls % 10\n",
        "\tif k == 0:\n",
        "\t\timg[:H // 3, :W // 3] += 1.0\n",
        "\telif k == 1:\n",
        "\t\timg[-H // 3 :, : W // 3] += 1.0\n",
        "\telif k == 2:\n",
        "\t\timg[: H // 3, -W // 3 :] += 1.0\n",
        "\telif k == 3:\n",
        "\t\timg[-H // 3 :, -W // 3 :] += 1.0\n",
        "\telif k == 4:\n",
        "\t\timg[:, :2] += 1.0\n",
        "\telif k == 5:\n",
        "\t\timg[:, -2:] += 1.0\n",
        "\telif k == 6:\n",
        "\t\timg[:2, :] += 1.0\n",
        "\telif k == 7:\n",
        "\t\timg[-2:, :] += 1.0\n",
        "\telif k == 8:\n",
        "\t\timg[H // 2 - 2 : H // 2 + 2, :] += 1.0\n",
        "\telif k == 9:\n",
        "\t\timg[:, W // 2 - 2 : W // 2 + 2] += 1.0\n",
        "\treturn np.clip(img, 0.0, 1.0).astype(np.float32)\n",
        "\n",
        "\n",
        "def build_synthetic_dataset(total_samples: int, num_classes: int, heavy: bool = True, seed: int = 0) -> SimpleImageDataset:\n",
        "\trng = np.random.RandomState(seed)\n",
        "\tif heavy:\n",
        "\t\ty = make_heavy_tailed_labels(total_samples, num_classes, s=1.0, min_per_class=1)\n",
        "\telse:\n",
        "\t\tper = total_samples // num_classes\n",
        "\t\ty = np.concatenate([np.full(per, k, dtype=np.int64) for k in range(num_classes)])\n",
        "\t\textra = total_samples - len(y)\n",
        "\t\tif extra > 0:\n",
        "\t\t\ty = np.concatenate([y, np.zeros(extra, dtype=np.int64)])\n",
        "\timages: List[np.ndarray] = []\n",
        "\tlabels: List[int] = []\n",
        "\tfor cls in y:\n",
        "\t\timages.append(make_synthetic_image(int(cls), H=32, W=32, rng=rng))\n",
        "\t\tlabels.append(int(cls))\n",
        "\treturn SimpleImageDataset(images, labels)\n",
        "\n",
        "# Optional: torchvision datasets if available (CIFAR/TinyImageNet)\n",
        "USE_TORCHVISION = False\n",
        "try:\n",
        "\timport torchvision\n",
        "\tfrom torchvision import transforms\n",
        "\tUSE_TORCHVISION = True\n",
        "\tprint(\"torchvision available — CIFAR10/TinyImageNet option enabled\")\n",
        "except Exception:\n",
        "\tprint(\"torchvision not available — using synthetic datasets\")\n",
        "\n",
        "\n",
        "def build_cifar10_dataset(limit: Optional[int] = None) -> Optional[Dataset]:\n",
        "\tif not USE_TORCHVISION:\n",
        "\t\treturn None\n",
        "\ttransform = transforms.Compose([\n",
        "\t\ttransforms.Grayscale(num_output_channels=1),\n",
        "\t\ttransforms.Resize((32, 32)),\n",
        "\t\ttransforms.ToTensor(),\n",
        "\t])\n",
        "\ttry:\n",
        "\t\ttrain = torchvision.datasets.CIFAR10(root=str(OUTPUT_DIR / \"data\"), train=True, download=True, transform=transform)\n",
        "\t\ttest = torchvision.datasets.CIFAR10(root=str(OUTPUT_DIR / \"data\"), train=False, download=True, transform=transform)\n",
        "\t\tfrom torch.utils.data import ConcatDataset, Subset\n",
        "\t\tfull = ConcatDataset([train, test])\n",
        "\t\tif limit is not None:\n",
        "\t\t\tidx = np.random.choice(len(full), size=min(limit, len(full)), replace=False)\n",
        "\t\t\tfull = Subset(full, idx)\n",
        "\t\treturn full\n",
        "\texcept Exception as exc:\n",
        "\t\tprint(\"CIFAR10 load failed:\", exc)\n",
        "\t\treturn None\n"
      ]
    },
    {
      "cell_type": "code",
      "execution_count": 3,
      "metadata": {},
      "outputs": [],
      "source": [
        "# --- Models: TinyCNN and TinyResNet ---\n",
        "\n",
        "class TinyCNN(nn.Module):\n",
        "\tdef __init__(self, num_classes: int):\n",
        "\t\tsuper().__init__()\n",
        "\t\tself.conv1 = nn.Conv2d(1, 32, 3, padding=1)\n",
        "\t\tself.conv2 = nn.Conv2d(32, 64, 3, padding=1)\n",
        "\t\tself.pool = nn.MaxPool2d(2, 2)\n",
        "\t\tself.dropout = nn.Dropout(p=0.1)\n",
        "\t\tself.fc = nn.Linear(64 * 8 * 8, num_classes)  # for 32x32 inputs\n",
        "\tdef forward(self, x: torch.Tensor) -> torch.Tensor:\n",
        "\t\tx = self.pool(F.relu(self.conv1(x)))\n",
        "\t\tx = self.pool(F.relu(self.conv2(x)))\n",
        "\t\tx = self.dropout(x)\n",
        "\t\tx = torch.flatten(x, 1)\n",
        "\t\treturn self.fc(x)\n",
        "\n",
        "\n",
        "class ResidualBlock(nn.Module):\n",
        "\tdef __init__(self, channels: int):\n",
        "\t\tsuper().__init__()\n",
        "\t\tself.conv1 = nn.Conv2d(channels, channels, 3, padding=1, bias=False)\n",
        "\t\tself.bn1 = nn.BatchNorm2d(channels)\n",
        "\t\tself.conv2 = nn.Conv2d(channels, channels, 3, padding=1, bias=False)\n",
        "\t\tself.bn2 = nn.BatchNorm2d(channels)\n",
        "\tdef forward(self, x: torch.Tensor) -> torch.Tensor:\n",
        "\t\tidentity = x\n",
        "\t\tout = F.relu(self.bn1(self.conv1(x)))\n",
        "\t\tout = self.bn2(self.conv2(out))\n",
        "\t\tout = F.relu(out + identity)\n",
        "\t\treturn out\n",
        "\n",
        "\n",
        "class TinyResNet(nn.Module):\n",
        "\tdef __init__(self, num_classes: int):\n",
        "\t\tsuper().__init__()\n",
        "\t\tself.stem = nn.Sequential(\n",
        "\t\t\tnn.Conv2d(1, 32, 3, padding=1, bias=False),\n",
        "\t\t\tnn.BatchNorm2d(32),\n",
        "\t\t\tnn.ReLU(inplace=True),\n",
        "\t\t\tnn.MaxPool2d(2, 2),\n",
        "\t\t)\n",
        "\t\tself.block1 = ResidualBlock(32)\n",
        "\t\tself.block2 = ResidualBlock(32)\n",
        "\t\tself.dropout = nn.Dropout(p=0.1)\n",
        "\t\tself.head = nn.Sequential(\n",
        "\t\t\tnn.AdaptiveAvgPool2d((1, 1)),\n",
        "\t\t\tnn.Flatten(),\n",
        "\t\t\tnn.Linear(32, num_classes),\n",
        "\t\t)\n",
        "\tdef forward(self, x: torch.Tensor) -> torch.Tensor:\n",
        "\t\tx = self.stem(x)\n",
        "\t\tx = self.block1(x)\n",
        "\t\tx = self.block2(x)\n",
        "\t\tx = self.dropout(x)\n",
        "\t\treturn self.head(x)\n",
        "\n"
      ]
    },
    {
      "cell_type": "code",
      "execution_count": 4,
      "metadata": {},
      "outputs": [],
      "source": [
        "# --- Training / evaluation utilities ---\n",
        "\n",
        "def cross_entropy_with_label_smoothing(logits: torch.Tensor, targets: torch.Tensor, smoothing: float = 0.0) -> torch.Tensor:\n",
        "\tif smoothing <= 0.0:\n",
        "\t\treturn F.cross_entropy(logits, targets)\n",
        "\tnum_classes = logits.size(1)\n",
        "\tlog_probs = F.log_softmax(logits, dim=1)\n",
        "\ttargets_one_hot = F.one_hot(targets, num_classes=num_classes).float()\n",
        "\ttargets_smoothed = targets_one_hot * (1 - smoothing) + smoothing / num_classes\n",
        "\treturn (-targets_smoothed * log_probs).sum(dim=1).mean()\n",
        "\n",
        "\n",
        "def make_optimizer(model: nn.Module, name: str, lr: float, weight_decay: float = 0.0) -> torch.optim.Optimizer:\n",
        "\tlname = name.lower()\n",
        "\tif lname in {\"adam\", \"adamw\"}:\n",
        "\t\treturn torch.optim.AdamW(model.parameters(), lr=lr, weight_decay=weight_decay)\n",
        "\tif lname in {\"sgd\", \"sgd+momentum\", \"sgdm\"}:\n",
        "\t\treturn torch.optim.SGD(model.parameters(), lr=lr, momentum=0.9, weight_decay=weight_decay)\n",
        "\traise ValueError(f\"Unknown optimizer: {name}\")\n",
        "\n",
        "\n",
        "def train_epoch(model: nn.Module, loader: DataLoader, optimizer: torch.optim.Optimizer, smoothing: float = 0.0) -> Tuple[float, float]:\n",
        "\tmodel.train()\n",
        "\ttotal_loss = 0.0\n",
        "\ttotal_correct = 0\n",
        "\ttotal_seen = 0\n",
        "\tfor xb, yb in loader:\n",
        "\t\txb = xb.to(device)\n",
        "\t\tyb = yb.to(device)\n",
        "\t\toptimizer.zero_grad()\n",
        "\t\tlogits = model(xb)\n",
        "\t\tloss = cross_entropy_with_label_smoothing(logits, yb, smoothing=smoothing)\n",
        "\t\tloss.backward()\n",
        "\t\toptimizer.step()\n",
        "\t\ttotal_loss += loss.item() * xb.size(0)\n",
        "\t\tpreds = logits.argmax(dim=1)\n",
        "\t\ttotal_correct += (preds == yb).sum().item()\n",
        "\t\ttotal_seen += xb.size(0)\n",
        "\treturn total_loss / total_seen, total_correct / total_seen\n",
        "\n",
        "\n",
        "@torch.no_grad()\n",
        "def evaluate(model: nn.Module, loader: DataLoader, smoothing: float = 0.0) -> Dict[str, float]:\n",
        "\tmodel.eval()\n",
        "\ttotal_loss = 0.0\n",
        "\ttotal_correct = 0\n",
        "\ttotal_seen = 0\n",
        "\tfor xb, yb in loader:\n",
        "\t\txb = xb.to(device)\n",
        "\t\tyb = yb.to(device)\n",
        "\t\tlogits = model(xb)\n",
        "\t\tloss = cross_entropy_with_label_smoothing(logits, yb, smoothing=smoothing)\n",
        "\t\ttotal_loss += loss.item() * xb.size(0)\n",
        "\t\tpreds = logits.argmax(dim=1)\n",
        "\t\ttotal_correct += (preds == yb).sum().item()\n",
        "\t\ttotal_seen += xb.size(0)\n",
        "\treturn {\"loss\": total_loss / total_seen, \"accuracy\": total_correct / total_seen}\n",
        "\n",
        "\n",
        "def prepare_loaders(dataset: Dataset, batch_size: int = 256, val_ratio: float = 0.2, test_ratio: float = 0.1, seed: int = SEED) -> Tuple[DataLoader, DataLoader, DataLoader]:\n",
        "\tn_total = len(dataset)\n",
        "\tn_val = int(n_total * val_ratio)\n",
        "\tn_test = int(n_total * test_ratio)\n",
        "\tn_train = n_total - n_val - n_test\n",
        "\tassert n_train > 0, \"Dataset too small for splits\"\n",
        "\tlengths = [n_train, n_val, n_test]\n",
        "\ttrain_ds, val_ds, test_ds = random_split(dataset, lengths, generator=torch.Generator().manual_seed(seed))\n",
        "\ttrain_loader = DataLoader(train_ds, batch_size=batch_size, shuffle=True)\n",
        "\tval_loader = DataLoader(val_ds, batch_size=batch_size, shuffle=False)\n",
        "\ttest_loader = DataLoader(test_ds, batch_size=batch_size, shuffle=False)\n",
        "\treturn train_loader, val_loader, test_loader\n",
        "\n"
      ]
    },
    {
      "cell_type": "code",
      "execution_count": 5,
      "metadata": {},
      "outputs": [
        {
          "name": "stderr",
          "output_type": "stream",
          "text": [
            "100%|██████████| 170M/170M [00:06<00:00, 24.5MB/s] \n"
          ]
        },
        {
          "name": "stdout",
          "output_type": "stream",
          "text": [
            "{'samples': 60000, 'batch_size': 256, 'classes': 'CIFAR10', 'epochs': 36, 'optimizers': ['SGD+Momentum', 'AdamW'], 'models': ['TinyCNN', 'TinyResNet']}\n"
          ]
        }
      ],
      "source": [
        "# --- Configure experiments (longer runs) ---\n",
        "\n",
        "# Dataset config\n",
        "if FAST_RUN:\n",
        "\ttotal_samples = 4000\n",
        "\tnum_classes = 60\n",
        "\tbatch_size = 128\n",
        "\tmax_epochs = 12\n",
        "else:\n",
        "\ttotal_samples = 20000\n",
        "\tnum_classes = 120\n",
        "\tbatch_size = 256\n",
        "\tmax_epochs = 36  # extend to 50–60 on GPU if desired\n",
        "\n",
        "use_heavy_tail = True  # toggle to compare balanced vs heavy-tailed\n",
        "\n",
        "# Build dataset (prefer CIFAR10 if available, else synthetic heavy-tailed)\n",
        "base_dataset = None\n",
        "if USE_TORCHVISION:\n",
        "\tcifar = build_cifar10_dataset(limit=None if not FAST_RUN else 8000)\n",
        "\tif cifar is not None:\n",
        "\t\tbase_dataset = cifar\n",
        "\n",
        "if base_dataset is None:\n",
        "\tprint(\"Building synthetic dataset...\")\n",
        "\tbase_dataset = build_synthetic_dataset(\n",
        "\t\ttotal_samples=total_samples,\n",
        "\t\tnum_classes=num_classes,\n",
        "\t\theavy=use_heavy_tail,\n",
        "\t\tseed=SEED,\n",
        "\t)\n",
        "\n",
        "train_loader, val_loader, test_loader = prepare_loaders(base_dataset, batch_size=batch_size, seed=SEED)\n",
        "\n",
        "# Model/optimizer config\n",
        "optimizers = [\n",
        "\t{\"name\": \"SGD+Momentum\", \"lr\": 5e-3},\n",
        "\t{\"name\": \"AdamW\", \"lr\": 1e-3},\n",
        "]\n",
        "models = [\n",
        "\t(\"TinyCNN\", TinyCNN),\n",
        "\t(\"TinyResNet\", TinyResNet),\n",
        "]\n",
        "\n",
        "label_smoothing = 0.0\n",
        "weight_decay = 5e-4 if not FAST_RUN else 0.0\n",
        "\n",
        "print({\n",
        "\t\"samples\": len(base_dataset),\n",
        "\t\"batch_size\": batch_size,\n",
        "\t\"classes\": (int(base_dataset.y.max()) + 1) if hasattr(base_dataset, \"y\") else \"CIFAR10\",\n",
        "\t\"epochs\": max_epochs,\n",
        "\t\"optimizers\": [o[\"name\"] for o in optimizers],\n",
        "\t\"models\": [m[0] for m in models],\n",
        "})\n"
      ]
    },
    {
      "cell_type": "code",
      "execution_count": 7,
      "metadata": {},
      "outputs": [
        {
          "name": "stderr",
          "output_type": "stream",
          "text": [
            "/Users/prashantpotluri/miniforge3/lib/python3.12/site-packages/tqdm/auto.py:21: TqdmWarning: IProgress not found. Please update jupyter and ipywidgets. See https://ipywidgets.readthedocs.io/en/stable/user_install.html\n",
            "  from .autonotebook import tqdm as notebook_tqdm\n"
          ]
        },
        {
          "name": "stdout",
          "output_type": "stream",
          "text": [
            "Running TinyCNN|SGD+Momentum|epochs=36 ...\n"
          ]
        },
        {
          "name": "stderr",
          "output_type": "stream",
          "text": [
            "TinyCNN|SGD+Momentum|epochs=36:   3%|▎         | 1/36 [00:30<17:54, 30.71s/it]"
          ]
        },
        {
          "name": "stdout",
          "output_type": "stream",
          "text": [
            "TinyCNN|SGD+Momentum|epochs=36 | epoch 001/36 | train_loss=2.177 | val_acc=0.283\n"
          ]
        },
        {
          "name": "stderr",
          "output_type": "stream",
          "text": [
            "TinyCNN|SGD+Momentum|epochs=36:   6%|▌         | 2/36 [00:53<14:40, 25.90s/it]"
          ]
        },
        {
          "name": "stdout",
          "output_type": "stream",
          "text": [
            "TinyCNN|SGD+Momentum|epochs=36 | epoch 002/36 | train_loss=1.980 | val_acc=0.347\n"
          ]
        },
        {
          "name": "stderr",
          "output_type": "stream",
          "text": [
            "TinyCNN|SGD+Momentum|epochs=36:   8%|▊         | 3/36 [01:15<13:19, 24.21s/it]"
          ]
        },
        {
          "name": "stdout",
          "output_type": "stream",
          "text": [
            "TinyCNN|SGD+Momentum|epochs=36 | epoch 003/36 | train_loss=1.805 | val_acc=0.356\n"
          ]
        },
        {
          "name": "stderr",
          "output_type": "stream",
          "text": [
            "TinyCNN|SGD+Momentum|epochs=36:  11%|█         | 4/36 [01:37<12:28, 23.40s/it]"
          ]
        },
        {
          "name": "stdout",
          "output_type": "stream",
          "text": [
            "TinyCNN|SGD+Momentum|epochs=36 | epoch 004/36 | train_loss=1.693 | val_acc=0.412\n"
          ]
        },
        {
          "name": "stderr",
          "output_type": "stream",
          "text": [
            "TinyCNN|SGD+Momentum|epochs=36:  14%|█▍        | 5/36 [01:59<11:52, 22.97s/it]"
          ]
        },
        {
          "name": "stdout",
          "output_type": "stream",
          "text": [
            "TinyCNN|SGD+Momentum|epochs=36 | epoch 005/36 | train_loss=1.608 | val_acc=0.439\n"
          ]
        },
        {
          "name": "stderr",
          "output_type": "stream",
          "text": [
            "TinyCNN|SGD+Momentum|epochs=36:  17%|█▋        | 6/36 [02:22<11:21, 22.71s/it]"
          ]
        },
        {
          "name": "stdout",
          "output_type": "stream",
          "text": [
            "TinyCNN|SGD+Momentum|epochs=36 | epoch 006/36 | train_loss=1.554 | val_acc=0.446\n"
          ]
        },
        {
          "name": "stderr",
          "output_type": "stream",
          "text": [
            "TinyCNN|SGD+Momentum|epochs=36:  19%|█▉        | 7/36 [02:44<10:53, 22.53s/it]"
          ]
        },
        {
          "name": "stdout",
          "output_type": "stream",
          "text": [
            "TinyCNN|SGD+Momentum|epochs=36 | epoch 007/36 | train_loss=1.501 | val_acc=0.473\n"
          ]
        },
        {
          "name": "stderr",
          "output_type": "stream",
          "text": [
            "TinyCNN|SGD+Momentum|epochs=36:  22%|██▏       | 8/36 [03:06<10:26, 22.36s/it]"
          ]
        },
        {
          "name": "stdout",
          "output_type": "stream",
          "text": [
            "TinyCNN|SGD+Momentum|epochs=36 | epoch 008/36 | train_loss=1.463 | val_acc=0.472\n"
          ]
        },
        {
          "name": "stderr",
          "output_type": "stream",
          "text": [
            "TinyCNN|SGD+Momentum|epochs=36:  25%|██▌       | 9/36 [03:28<10:04, 22.40s/it]"
          ]
        },
        {
          "name": "stdout",
          "output_type": "stream",
          "text": [
            "TinyCNN|SGD+Momentum|epochs=36 | epoch 009/36 | train_loss=1.438 | val_acc=0.480\n"
          ]
        },
        {
          "name": "stderr",
          "output_type": "stream",
          "text": [
            "TinyCNN|SGD+Momentum|epochs=36:  28%|██▊       | 10/36 [03:50<09:41, 22.35s/it]"
          ]
        },
        {
          "name": "stdout",
          "output_type": "stream",
          "text": [
            "TinyCNN|SGD+Momentum|epochs=36 | epoch 010/36 | train_loss=1.399 | val_acc=0.496\n"
          ]
        },
        {
          "name": "stderr",
          "output_type": "stream",
          "text": [
            "TinyCNN|SGD+Momentum|epochs=36:  31%|███       | 11/36 [04:12<09:16, 22.27s/it]"
          ]
        },
        {
          "name": "stdout",
          "output_type": "stream",
          "text": [
            "TinyCNN|SGD+Momentum|epochs=36 | epoch 011/36 | train_loss=1.370 | val_acc=0.490\n"
          ]
        },
        {
          "name": "stderr",
          "output_type": "stream",
          "text": [
            "TinyCNN|SGD+Momentum|epochs=36:  33%|███▎      | 12/36 [04:35<08:53, 22.21s/it]"
          ]
        },
        {
          "name": "stdout",
          "output_type": "stream",
          "text": [
            "TinyCNN|SGD+Momentum|epochs=36 | epoch 012/36 | train_loss=1.339 | val_acc=0.524\n"
          ]
        },
        {
          "name": "stderr",
          "output_type": "stream",
          "text": [
            "TinyCNN|SGD+Momentum|epochs=36:  36%|███▌      | 13/36 [04:57<08:30, 22.19s/it]"
          ]
        },
        {
          "name": "stdout",
          "output_type": "stream",
          "text": [
            "TinyCNN|SGD+Momentum|epochs=36 | epoch 013/36 | train_loss=1.305 | val_acc=0.538\n"
          ]
        },
        {
          "name": "stderr",
          "output_type": "stream",
          "text": [
            "TinyCNN|SGD+Momentum|epochs=36:  39%|███▉      | 14/36 [05:20<08:17, 22.63s/it]"
          ]
        },
        {
          "name": "stdout",
          "output_type": "stream",
          "text": [
            "TinyCNN|SGD+Momentum|epochs=36 | epoch 014/36 | train_loss=1.285 | val_acc=0.551\n"
          ]
        },
        {
          "name": "stderr",
          "output_type": "stream",
          "text": [
            "TinyCNN|SGD+Momentum|epochs=36:  42%|████▏     | 15/36 [05:42<07:51, 22.44s/it]"
          ]
        },
        {
          "name": "stdout",
          "output_type": "stream",
          "text": [
            "TinyCNN|SGD+Momentum|epochs=36 | epoch 015/36 | train_loss=1.261 | val_acc=0.557\n"
          ]
        },
        {
          "name": "stderr",
          "output_type": "stream",
          "text": [
            "TinyCNN|SGD+Momentum|epochs=36:  44%|████▍     | 16/36 [06:05<07:27, 22.39s/it]"
          ]
        },
        {
          "name": "stdout",
          "output_type": "stream",
          "text": [
            "TinyCNN|SGD+Momentum|epochs=36 | epoch 016/36 | train_loss=1.241 | val_acc=0.566\n"
          ]
        },
        {
          "name": "stderr",
          "output_type": "stream",
          "text": [
            "TinyCNN|SGD+Momentum|epochs=36:  47%|████▋     | 17/36 [06:27<07:07, 22.48s/it]"
          ]
        },
        {
          "name": "stdout",
          "output_type": "stream",
          "text": [
            "TinyCNN|SGD+Momentum|epochs=36 | epoch 017/36 | train_loss=1.221 | val_acc=0.562\n"
          ]
        },
        {
          "name": "stderr",
          "output_type": "stream",
          "text": [
            "TinyCNN|SGD+Momentum|epochs=36:  50%|█████     | 18/36 [06:49<06:42, 22.38s/it]"
          ]
        },
        {
          "name": "stdout",
          "output_type": "stream",
          "text": [
            "TinyCNN|SGD+Momentum|epochs=36 | epoch 018/36 | train_loss=1.208 | val_acc=0.565\n"
          ]
        },
        {
          "name": "stderr",
          "output_type": "stream",
          "text": [
            "TinyCNN|SGD+Momentum|epochs=36:  53%|█████▎    | 19/36 [07:12<06:18, 22.28s/it]"
          ]
        },
        {
          "name": "stdout",
          "output_type": "stream",
          "text": [
            "TinyCNN|SGD+Momentum|epochs=36 | epoch 019/36 | train_loss=1.192 | val_acc=0.576\n"
          ]
        },
        {
          "name": "stderr",
          "output_type": "stream",
          "text": [
            "TinyCNN|SGD+Momentum|epochs=36:  56%|█████▌    | 20/36 [07:34<05:55, 22.21s/it]"
          ]
        },
        {
          "name": "stdout",
          "output_type": "stream",
          "text": [
            "TinyCNN|SGD+Momentum|epochs=36 | epoch 020/36 | train_loss=1.176 | val_acc=0.563\n"
          ]
        },
        {
          "name": "stderr",
          "output_type": "stream",
          "text": [
            "TinyCNN|SGD+Momentum|epochs=36:  58%|█████▊    | 21/36 [07:56<05:32, 22.20s/it]"
          ]
        },
        {
          "name": "stdout",
          "output_type": "stream",
          "text": [
            "TinyCNN|SGD+Momentum|epochs=36 | epoch 021/36 | train_loss=1.160 | val_acc=0.584\n"
          ]
        },
        {
          "name": "stderr",
          "output_type": "stream",
          "text": [
            "TinyCNN|SGD+Momentum|epochs=36:  61%|██████    | 22/36 [08:18<05:11, 22.26s/it]"
          ]
        },
        {
          "name": "stdout",
          "output_type": "stream",
          "text": [
            "TinyCNN|SGD+Momentum|epochs=36 | epoch 022/36 | train_loss=1.142 | val_acc=0.589\n"
          ]
        },
        {
          "name": "stderr",
          "output_type": "stream",
          "text": [
            "TinyCNN|SGD+Momentum|epochs=36:  64%|██████▍   | 23/36 [08:41<04:52, 22.47s/it]"
          ]
        },
        {
          "name": "stdout",
          "output_type": "stream",
          "text": [
            "TinyCNN|SGD+Momentum|epochs=36 | epoch 023/36 | train_loss=1.127 | val_acc=0.597\n"
          ]
        },
        {
          "name": "stderr",
          "output_type": "stream",
          "text": [
            "TinyCNN|SGD+Momentum|epochs=36:  67%|██████▋   | 24/36 [09:03<04:26, 22.22s/it]"
          ]
        },
        {
          "name": "stdout",
          "output_type": "stream",
          "text": [
            "TinyCNN|SGD+Momentum|epochs=36 | epoch 024/36 | train_loss=1.118 | val_acc=0.598\n"
          ]
        },
        {
          "name": "stderr",
          "output_type": "stream",
          "text": [
            "TinyCNN|SGD+Momentum|epochs=36:  69%|██████▉   | 25/36 [09:26<04:06, 22.44s/it]"
          ]
        },
        {
          "name": "stdout",
          "output_type": "stream",
          "text": [
            "TinyCNN|SGD+Momentum|epochs=36 | epoch 025/36 | train_loss=1.106 | val_acc=0.603\n"
          ]
        },
        {
          "name": "stderr",
          "output_type": "stream",
          "text": [
            "TinyCNN|SGD+Momentum|epochs=36:  72%|███████▏  | 26/36 [09:48<03:43, 22.32s/it]"
          ]
        },
        {
          "name": "stdout",
          "output_type": "stream",
          "text": [
            "TinyCNN|SGD+Momentum|epochs=36 | epoch 026/36 | train_loss=1.096 | val_acc=0.588\n"
          ]
        },
        {
          "name": "stderr",
          "output_type": "stream",
          "text": [
            "TinyCNN|SGD+Momentum|epochs=36:  75%|███████▌  | 27/36 [10:12<03:26, 22.93s/it]"
          ]
        },
        {
          "name": "stdout",
          "output_type": "stream",
          "text": [
            "TinyCNN|SGD+Momentum|epochs=36 | epoch 027/36 | train_loss=1.088 | val_acc=0.609\n"
          ]
        },
        {
          "name": "stderr",
          "output_type": "stream",
          "text": [
            "TinyCNN|SGD+Momentum|epochs=36:  78%|███████▊  | 28/36 [10:34<03:01, 22.75s/it]"
          ]
        },
        {
          "name": "stdout",
          "output_type": "stream",
          "text": [
            "TinyCNN|SGD+Momentum|epochs=36 | epoch 028/36 | train_loss=1.076 | val_acc=0.580\n"
          ]
        },
        {
          "name": "stderr",
          "output_type": "stream",
          "text": [
            "TinyCNN|SGD+Momentum|epochs=36:  81%|████████  | 29/36 [10:57<02:38, 22.61s/it]"
          ]
        },
        {
          "name": "stdout",
          "output_type": "stream",
          "text": [
            "TinyCNN|SGD+Momentum|epochs=36 | epoch 029/36 | train_loss=1.063 | val_acc=0.605\n"
          ]
        },
        {
          "name": "stderr",
          "output_type": "stream",
          "text": [
            "TinyCNN|SGD+Momentum|epochs=36:  83%|████████▎ | 30/36 [11:19<02:15, 22.59s/it]"
          ]
        },
        {
          "name": "stdout",
          "output_type": "stream",
          "text": [
            "TinyCNN|SGD+Momentum|epochs=36 | epoch 030/36 | train_loss=1.053 | val_acc=0.583\n"
          ]
        },
        {
          "name": "stderr",
          "output_type": "stream",
          "text": [
            "TinyCNN|SGD+Momentum|epochs=36:  86%|████████▌ | 31/36 [11:41<01:52, 22.48s/it]"
          ]
        },
        {
          "name": "stdout",
          "output_type": "stream",
          "text": [
            "TinyCNN|SGD+Momentum|epochs=36 | epoch 031/36 | train_loss=1.047 | val_acc=0.626\n"
          ]
        },
        {
          "name": "stderr",
          "output_type": "stream",
          "text": [
            "TinyCNN|SGD+Momentum|epochs=36:  89%|████████▉ | 32/36 [12:04<01:29, 22.37s/it]"
          ]
        },
        {
          "name": "stdout",
          "output_type": "stream",
          "text": [
            "TinyCNN|SGD+Momentum|epochs=36 | epoch 032/36 | train_loss=1.036 | val_acc=0.626\n"
          ]
        },
        {
          "name": "stderr",
          "output_type": "stream",
          "text": [
            "TinyCNN|SGD+Momentum|epochs=36:  92%|█████████▏| 33/36 [12:26<01:07, 22.35s/it]"
          ]
        },
        {
          "name": "stdout",
          "output_type": "stream",
          "text": [
            "TinyCNN|SGD+Momentum|epochs=36 | epoch 033/36 | train_loss=1.029 | val_acc=0.596\n"
          ]
        },
        {
          "name": "stderr",
          "output_type": "stream",
          "text": [
            "TinyCNN|SGD+Momentum|epochs=36:  94%|█████████▍| 34/36 [12:48<00:44, 22.24s/it]"
          ]
        },
        {
          "name": "stdout",
          "output_type": "stream",
          "text": [
            "TinyCNN|SGD+Momentum|epochs=36 | epoch 034/36 | train_loss=1.014 | val_acc=0.606\n"
          ]
        },
        {
          "name": "stderr",
          "output_type": "stream",
          "text": [
            "TinyCNN|SGD+Momentum|epochs=36:  97%|█████████▋| 35/36 [13:10<00:22, 22.25s/it]"
          ]
        },
        {
          "name": "stdout",
          "output_type": "stream",
          "text": [
            "TinyCNN|SGD+Momentum|epochs=36 | epoch 035/36 | train_loss=1.014 | val_acc=0.616\n"
          ]
        },
        {
          "name": "stderr",
          "output_type": "stream",
          "text": [
            "                                                                               \r"
          ]
        },
        {
          "name": "stdout",
          "output_type": "stream",
          "text": [
            "TinyCNN|SGD+Momentum|epochs=36 | epoch 036/36 | train_loss=1.000 | val_acc=0.614\n",
            "  -> last epoch: train_loss=1.000 val_acc=0.614\n",
            "Running TinyCNN|AdamW|epochs=36 ...\n"
          ]
        },
        {
          "name": "stderr",
          "output_type": "stream",
          "text": [
            "TinyCNN|AdamW|epochs=36:   3%|▎         | 1/36 [00:21<12:48, 21.96s/it]"
          ]
        },
        {
          "name": "stdout",
          "output_type": "stream",
          "text": [
            "TinyCNN|AdamW|epochs=36 | epoch 001/36 | train_loss=1.861 | val_acc=0.425\n"
          ]
        },
        {
          "name": "stderr",
          "output_type": "stream",
          "text": [
            "TinyCNN|AdamW|epochs=36:   6%|▌         | 2/36 [00:44<12:47, 22.57s/it]"
          ]
        },
        {
          "name": "stdout",
          "output_type": "stream",
          "text": [
            "TinyCNN|AdamW|epochs=36 | epoch 002/36 | train_loss=1.532 | val_acc=0.490\n"
          ]
        },
        {
          "name": "stderr",
          "output_type": "stream",
          "text": [
            "TinyCNN|AdamW|epochs=36:   8%|▊         | 3/36 [01:07<12:20, 22.44s/it]"
          ]
        },
        {
          "name": "stdout",
          "output_type": "stream",
          "text": [
            "TinyCNN|AdamW|epochs=36 | epoch 003/36 | train_loss=1.394 | val_acc=0.528\n"
          ]
        },
        {
          "name": "stderr",
          "output_type": "stream",
          "text": [
            "TinyCNN|AdamW|epochs=36:  11%|█         | 4/36 [01:30<12:06, 22.69s/it]"
          ]
        },
        {
          "name": "stdout",
          "output_type": "stream",
          "text": [
            "TinyCNN|AdamW|epochs=36 | epoch 004/36 | train_loss=1.307 | val_acc=0.556\n"
          ]
        },
        {
          "name": "stderr",
          "output_type": "stream",
          "text": [
            "TinyCNN|AdamW|epochs=36:  14%|█▍        | 5/36 [01:53<11:47, 22.82s/it]"
          ]
        },
        {
          "name": "stdout",
          "output_type": "stream",
          "text": [
            "TinyCNN|AdamW|epochs=36 | epoch 005/36 | train_loss=1.238 | val_acc=0.572\n"
          ]
        },
        {
          "name": "stderr",
          "output_type": "stream",
          "text": [
            "TinyCNN|AdamW|epochs=36:  17%|█▋        | 6/36 [02:15<11:20, 22.69s/it]"
          ]
        },
        {
          "name": "stdout",
          "output_type": "stream",
          "text": [
            "TinyCNN|AdamW|epochs=36 | epoch 006/36 | train_loss=1.194 | val_acc=0.561\n"
          ]
        },
        {
          "name": "stderr",
          "output_type": "stream",
          "text": [
            "TinyCNN|AdamW|epochs=36:  19%|█▉        | 7/36 [02:38<10:55, 22.60s/it]"
          ]
        },
        {
          "name": "stdout",
          "output_type": "stream",
          "text": [
            "TinyCNN|AdamW|epochs=36 | epoch 007/36 | train_loss=1.159 | val_acc=0.594\n"
          ]
        },
        {
          "name": "stderr",
          "output_type": "stream",
          "text": [
            "TinyCNN|AdamW|epochs=36:  22%|██▏       | 8/36 [03:00<10:28, 22.45s/it]"
          ]
        },
        {
          "name": "stdout",
          "output_type": "stream",
          "text": [
            "TinyCNN|AdamW|epochs=36 | epoch 008/36 | train_loss=1.122 | val_acc=0.602\n"
          ]
        },
        {
          "name": "stderr",
          "output_type": "stream",
          "text": [
            "TinyCNN|AdamW|epochs=36:  25%|██▌       | 9/36 [03:22<10:03, 22.34s/it]"
          ]
        },
        {
          "name": "stdout",
          "output_type": "stream",
          "text": [
            "TinyCNN|AdamW|epochs=36 | epoch 009/36 | train_loss=1.096 | val_acc=0.594\n"
          ]
        },
        {
          "name": "stderr",
          "output_type": "stream",
          "text": [
            "TinyCNN|AdamW|epochs=36:  28%|██▊       | 10/36 [03:45<09:43, 22.43s/it]"
          ]
        },
        {
          "name": "stdout",
          "output_type": "stream",
          "text": [
            "TinyCNN|AdamW|epochs=36 | epoch 010/36 | train_loss=1.079 | val_acc=0.615\n"
          ]
        },
        {
          "name": "stderr",
          "output_type": "stream",
          "text": [
            "TinyCNN|AdamW|epochs=36:  31%|███       | 11/36 [04:07<09:18, 22.34s/it]"
          ]
        },
        {
          "name": "stdout",
          "output_type": "stream",
          "text": [
            "TinyCNN|AdamW|epochs=36 | epoch 011/36 | train_loss=1.057 | val_acc=0.617\n"
          ]
        },
        {
          "name": "stderr",
          "output_type": "stream",
          "text": [
            "TinyCNN|AdamW|epochs=36:  33%|███▎      | 12/36 [04:30<09:03, 22.64s/it]"
          ]
        },
        {
          "name": "stdout",
          "output_type": "stream",
          "text": [
            "TinyCNN|AdamW|epochs=36 | epoch 012/36 | train_loss=1.035 | val_acc=0.612\n"
          ]
        },
        {
          "name": "stderr",
          "output_type": "stream",
          "text": [
            "TinyCNN|AdamW|epochs=36:  36%|███▌      | 13/36 [04:52<08:39, 22.58s/it]"
          ]
        },
        {
          "name": "stdout",
          "output_type": "stream",
          "text": [
            "TinyCNN|AdamW|epochs=36 | epoch 013/36 | train_loss=1.022 | val_acc=0.614\n"
          ]
        },
        {
          "name": "stderr",
          "output_type": "stream",
          "text": [
            "TinyCNN|AdamW|epochs=36:  39%|███▉      | 14/36 [05:15<08:14, 22.46s/it]"
          ]
        },
        {
          "name": "stdout",
          "output_type": "stream",
          "text": [
            "TinyCNN|AdamW|epochs=36 | epoch 014/36 | train_loss=1.001 | val_acc=0.599\n"
          ]
        },
        {
          "name": "stderr",
          "output_type": "stream",
          "text": [
            "TinyCNN|AdamW|epochs=36:  42%|████▏     | 15/36 [05:37<07:49, 22.38s/it]"
          ]
        },
        {
          "name": "stdout",
          "output_type": "stream",
          "text": [
            "TinyCNN|AdamW|epochs=36 | epoch 015/36 | train_loss=0.999 | val_acc=0.626\n"
          ]
        },
        {
          "name": "stderr",
          "output_type": "stream",
          "text": [
            "TinyCNN|AdamW|epochs=36:  44%|████▍     | 16/36 [05:59<07:27, 22.36s/it]"
          ]
        },
        {
          "name": "stdout",
          "output_type": "stream",
          "text": [
            "TinyCNN|AdamW|epochs=36 | epoch 016/36 | train_loss=0.977 | val_acc=0.628\n"
          ]
        },
        {
          "name": "stderr",
          "output_type": "stream",
          "text": [
            "TinyCNN|AdamW|epochs=36:  47%|████▋     | 17/36 [06:21<07:03, 22.28s/it]"
          ]
        },
        {
          "name": "stdout",
          "output_type": "stream",
          "text": [
            "TinyCNN|AdamW|epochs=36 | epoch 017/36 | train_loss=0.966 | val_acc=0.630\n"
          ]
        },
        {
          "name": "stderr",
          "output_type": "stream",
          "text": [
            "TinyCNN|AdamW|epochs=36:  50%|█████     | 18/36 [06:46<06:55, 23.07s/it]"
          ]
        },
        {
          "name": "stdout",
          "output_type": "stream",
          "text": [
            "TinyCNN|AdamW|epochs=36 | epoch 018/36 | train_loss=0.953 | val_acc=0.638\n"
          ]
        },
        {
          "name": "stderr",
          "output_type": "stream",
          "text": [
            "TinyCNN|AdamW|epochs=36:  53%|█████▎    | 19/36 [07:09<06:30, 22.96s/it]"
          ]
        },
        {
          "name": "stdout",
          "output_type": "stream",
          "text": [
            "TinyCNN|AdamW|epochs=36 | epoch 019/36 | train_loss=0.939 | val_acc=0.634\n"
          ]
        },
        {
          "name": "stderr",
          "output_type": "stream",
          "text": [
            "TinyCNN|AdamW|epochs=36:  56%|█████▌    | 20/36 [07:33<06:10, 23.16s/it]"
          ]
        },
        {
          "name": "stdout",
          "output_type": "stream",
          "text": [
            "TinyCNN|AdamW|epochs=36 | epoch 020/36 | train_loss=0.937 | val_acc=0.634\n"
          ]
        },
        {
          "name": "stderr",
          "output_type": "stream",
          "text": [
            "TinyCNN|AdamW|epochs=36:  58%|█████▊    | 21/36 [07:57<05:51, 23.42s/it]"
          ]
        },
        {
          "name": "stdout",
          "output_type": "stream",
          "text": [
            "TinyCNN|AdamW|epochs=36 | epoch 021/36 | train_loss=0.919 | val_acc=0.644\n"
          ]
        },
        {
          "name": "stderr",
          "output_type": "stream",
          "text": [
            "TinyCNN|AdamW|epochs=36:  61%|██████    | 22/36 [08:20<05:27, 23.39s/it]"
          ]
        },
        {
          "name": "stdout",
          "output_type": "stream",
          "text": [
            "TinyCNN|AdamW|epochs=36 | epoch 022/36 | train_loss=0.904 | val_acc=0.642\n"
          ]
        },
        {
          "name": "stderr",
          "output_type": "stream",
          "text": [
            "TinyCNN|AdamW|epochs=36:  64%|██████▍   | 23/36 [08:46<05:14, 24.20s/it]"
          ]
        },
        {
          "name": "stdout",
          "output_type": "stream",
          "text": [
            "TinyCNN|AdamW|epochs=36 | epoch 023/36 | train_loss=0.899 | val_acc=0.643\n"
          ]
        },
        {
          "name": "stderr",
          "output_type": "stream",
          "text": [
            "TinyCNN|AdamW|epochs=36:  67%|██████▋   | 24/36 [09:08<04:43, 23.59s/it]"
          ]
        },
        {
          "name": "stdout",
          "output_type": "stream",
          "text": [
            "TinyCNN|AdamW|epochs=36 | epoch 024/36 | train_loss=0.886 | val_acc=0.641\n"
          ]
        },
        {
          "name": "stderr",
          "output_type": "stream",
          "text": [
            "TinyCNN|AdamW|epochs=36:  69%|██████▉   | 25/36 [09:31<04:17, 23.39s/it]"
          ]
        },
        {
          "name": "stdout",
          "output_type": "stream",
          "text": [
            "TinyCNN|AdamW|epochs=36 | epoch 025/36 | train_loss=0.881 | val_acc=0.638\n"
          ]
        },
        {
          "name": "stderr",
          "output_type": "stream",
          "text": [
            "TinyCNN|AdamW|epochs=36:  72%|███████▏  | 26/36 [09:54<03:51, 23.19s/it]"
          ]
        },
        {
          "name": "stdout",
          "output_type": "stream",
          "text": [
            "TinyCNN|AdamW|epochs=36 | epoch 026/36 | train_loss=0.872 | val_acc=0.647\n"
          ]
        },
        {
          "name": "stderr",
          "output_type": "stream",
          "text": [
            "TinyCNN|AdamW|epochs=36:  75%|███████▌  | 27/36 [10:16<03:26, 23.00s/it]"
          ]
        },
        {
          "name": "stdout",
          "output_type": "stream",
          "text": [
            "TinyCNN|AdamW|epochs=36 | epoch 027/36 | train_loss=0.866 | val_acc=0.644\n"
          ]
        },
        {
          "name": "stderr",
          "output_type": "stream",
          "text": [
            "TinyCNN|AdamW|epochs=36:  78%|███████▊  | 28/36 [10:39<03:03, 22.91s/it]"
          ]
        },
        {
          "name": "stdout",
          "output_type": "stream",
          "text": [
            "TinyCNN|AdamW|epochs=36 | epoch 028/36 | train_loss=0.857 | val_acc=0.645\n"
          ]
        },
        {
          "name": "stderr",
          "output_type": "stream",
          "text": [
            "TinyCNN|AdamW|epochs=36:  81%|████████  | 29/36 [11:02<02:39, 22.80s/it]"
          ]
        },
        {
          "name": "stdout",
          "output_type": "stream",
          "text": [
            "TinyCNN|AdamW|epochs=36 | epoch 029/36 | train_loss=0.845 | val_acc=0.640\n"
          ]
        },
        {
          "name": "stderr",
          "output_type": "stream",
          "text": [
            "TinyCNN|AdamW|epochs=36:  83%|████████▎ | 30/36 [11:24<02:17, 22.84s/it]"
          ]
        },
        {
          "name": "stdout",
          "output_type": "stream",
          "text": [
            "TinyCNN|AdamW|epochs=36 | epoch 030/36 | train_loss=0.841 | val_acc=0.653\n"
          ]
        },
        {
          "name": "stderr",
          "output_type": "stream",
          "text": [
            "TinyCNN|AdamW|epochs=36:  86%|████████▌ | 31/36 [11:51<01:59, 23.81s/it]"
          ]
        },
        {
          "name": "stdout",
          "output_type": "stream",
          "text": [
            "TinyCNN|AdamW|epochs=36 | epoch 031/36 | train_loss=0.837 | val_acc=0.646\n"
          ]
        },
        {
          "name": "stderr",
          "output_type": "stream",
          "text": [
            "TinyCNN|AdamW|epochs=36:  89%|████████▉ | 32/36 [12:13<01:34, 23.55s/it]"
          ]
        },
        {
          "name": "stdout",
          "output_type": "stream",
          "text": [
            "TinyCNN|AdamW|epochs=36 | epoch 032/36 | train_loss=0.822 | val_acc=0.657\n"
          ]
        },
        {
          "name": "stderr",
          "output_type": "stream",
          "text": [
            "TinyCNN|AdamW|epochs=36:  92%|█████████▏| 33/36 [12:37<01:10, 23.46s/it]"
          ]
        },
        {
          "name": "stdout",
          "output_type": "stream",
          "text": [
            "TinyCNN|AdamW|epochs=36 | epoch 033/36 | train_loss=0.818 | val_acc=0.652\n"
          ]
        },
        {
          "name": "stderr",
          "output_type": "stream",
          "text": [
            "TinyCNN|AdamW|epochs=36:  94%|█████████▍| 34/36 [13:00<00:46, 23.27s/it]"
          ]
        },
        {
          "name": "stdout",
          "output_type": "stream",
          "text": [
            "TinyCNN|AdamW|epochs=36 | epoch 034/36 | train_loss=0.812 | val_acc=0.648\n"
          ]
        },
        {
          "name": "stderr",
          "output_type": "stream",
          "text": [
            "TinyCNN|AdamW|epochs=36:  97%|█████████▋| 35/36 [13:22<00:23, 23.11s/it]"
          ]
        },
        {
          "name": "stdout",
          "output_type": "stream",
          "text": [
            "TinyCNN|AdamW|epochs=36 | epoch 035/36 | train_loss=0.808 | val_acc=0.656\n"
          ]
        },
        {
          "name": "stderr",
          "output_type": "stream",
          "text": [
            "                                                                        \r"
          ]
        },
        {
          "name": "stdout",
          "output_type": "stream",
          "text": [
            "TinyCNN|AdamW|epochs=36 | epoch 036/36 | train_loss=0.793 | val_acc=0.656\n",
            "  -> last epoch: train_loss=0.793 val_acc=0.656\n",
            "Running TinyResNet|SGD+Momentum|epochs=36 ...\n"
          ]
        },
        {
          "name": "stderr",
          "output_type": "stream",
          "text": [
            "TinyResNet|SGD+Momentum|epochs=36:   3%|▎         | 1/36 [00:51<30:10, 51.74s/it]"
          ]
        },
        {
          "name": "stdout",
          "output_type": "stream",
          "text": [
            "TinyResNet|SGD+Momentum|epochs=36 | epoch 001/36 | train_loss=1.966 | val_acc=0.354\n"
          ]
        },
        {
          "name": "stderr",
          "output_type": "stream",
          "text": [
            "TinyResNet|SGD+Momentum|epochs=36:   6%|▌         | 2/36 [01:47<30:39, 54.10s/it]"
          ]
        },
        {
          "name": "stdout",
          "output_type": "stream",
          "text": [
            "TinyResNet|SGD+Momentum|epochs=36 | epoch 002/36 | train_loss=1.604 | val_acc=0.240\n"
          ]
        },
        {
          "name": "stderr",
          "output_type": "stream",
          "text": [
            "TinyResNet|SGD+Momentum|epochs=36:   8%|▊         | 3/36 [02:40<29:31, 53.69s/it]"
          ]
        },
        {
          "name": "stdout",
          "output_type": "stream",
          "text": [
            "TinyResNet|SGD+Momentum|epochs=36 | epoch 003/36 | train_loss=1.459 | val_acc=0.402\n"
          ]
        },
        {
          "name": "stderr",
          "output_type": "stream",
          "text": [
            "TinyResNet|SGD+Momentum|epochs=36:  11%|█         | 4/36 [03:33<28:30, 53.44s/it]"
          ]
        },
        {
          "name": "stdout",
          "output_type": "stream",
          "text": [
            "TinyResNet|SGD+Momentum|epochs=36 | epoch 004/36 | train_loss=1.353 | val_acc=0.317\n"
          ]
        },
        {
          "name": "stderr",
          "output_type": "stream",
          "text": [
            "TinyResNet|SGD+Momentum|epochs=36:  14%|█▍        | 5/36 [04:31<28:30, 55.17s/it]"
          ]
        },
        {
          "name": "stdout",
          "output_type": "stream",
          "text": [
            "TinyResNet|SGD+Momentum|epochs=36 | epoch 005/36 | train_loss=1.272 | val_acc=0.424\n"
          ]
        },
        {
          "name": "stderr",
          "output_type": "stream",
          "text": [
            "TinyResNet|SGD+Momentum|epochs=36:  17%|█▋        | 6/36 [05:52<31:57, 63.92s/it]"
          ]
        },
        {
          "name": "stdout",
          "output_type": "stream",
          "text": [
            "TinyResNet|SGD+Momentum|epochs=36 | epoch 006/36 | train_loss=1.212 | val_acc=0.385\n"
          ]
        },
        {
          "name": "stderr",
          "output_type": "stream",
          "text": [
            "TinyResNet|SGD+Momentum|epochs=36:  19%|█▉        | 7/36 [06:55<30:42, 63.53s/it]"
          ]
        },
        {
          "name": "stdout",
          "output_type": "stream",
          "text": [
            "TinyResNet|SGD+Momentum|epochs=36 | epoch 007/36 | train_loss=1.164 | val_acc=0.465\n"
          ]
        },
        {
          "name": "stderr",
          "output_type": "stream",
          "text": [
            "TinyResNet|SGD+Momentum|epochs=36:  22%|██▏       | 8/36 [07:49<28:10, 60.39s/it]"
          ]
        },
        {
          "name": "stdout",
          "output_type": "stream",
          "text": [
            "TinyResNet|SGD+Momentum|epochs=36 | epoch 008/36 | train_loss=1.117 | val_acc=0.524\n"
          ]
        },
        {
          "name": "stderr",
          "output_type": "stream",
          "text": [
            "TinyResNet|SGD+Momentum|epochs=36:  25%|██▌       | 9/36 [08:40<25:51, 57.47s/it]"
          ]
        },
        {
          "name": "stdout",
          "output_type": "stream",
          "text": [
            "TinyResNet|SGD+Momentum|epochs=36 | epoch 009/36 | train_loss=1.073 | val_acc=0.364\n"
          ]
        },
        {
          "name": "stderr",
          "output_type": "stream",
          "text": [
            "TinyResNet|SGD+Momentum|epochs=36:  28%|██▊       | 10/36 [09:30<23:56, 55.27s/it]"
          ]
        },
        {
          "name": "stdout",
          "output_type": "stream",
          "text": [
            "TinyResNet|SGD+Momentum|epochs=36 | epoch 010/36 | train_loss=1.039 | val_acc=0.500\n"
          ]
        },
        {
          "name": "stderr",
          "output_type": "stream",
          "text": [
            "TinyResNet|SGD+Momentum|epochs=36:  31%|███       | 11/36 [10:31<23:46, 57.04s/it]"
          ]
        },
        {
          "name": "stdout",
          "output_type": "stream",
          "text": [
            "TinyResNet|SGD+Momentum|epochs=36 | epoch 011/36 | train_loss=1.009 | val_acc=0.323\n"
          ]
        },
        {
          "name": "stderr",
          "output_type": "stream",
          "text": [
            "TinyResNet|SGD+Momentum|epochs=36:  33%|███▎      | 12/36 [11:32<23:14, 58.09s/it]"
          ]
        },
        {
          "name": "stdout",
          "output_type": "stream",
          "text": [
            "TinyResNet|SGD+Momentum|epochs=36 | epoch 012/36 | train_loss=0.988 | val_acc=0.545\n"
          ]
        },
        {
          "name": "stderr",
          "output_type": "stream",
          "text": [
            "TinyResNet|SGD+Momentum|epochs=36:  36%|███▌      | 13/36 [12:30<22:14, 58.01s/it]"
          ]
        },
        {
          "name": "stdout",
          "output_type": "stream",
          "text": [
            "TinyResNet|SGD+Momentum|epochs=36 | epoch 013/36 | train_loss=0.956 | val_acc=0.319\n"
          ]
        },
        {
          "name": "stderr",
          "output_type": "stream",
          "text": [
            "TinyResNet|SGD+Momentum|epochs=36:  39%|███▉      | 14/36 [13:23<20:45, 56.60s/it]"
          ]
        },
        {
          "name": "stdout",
          "output_type": "stream",
          "text": [
            "TinyResNet|SGD+Momentum|epochs=36 | epoch 014/36 | train_loss=0.935 | val_acc=0.459\n"
          ]
        },
        {
          "name": "stderr",
          "output_type": "stream",
          "text": [
            "TinyResNet|SGD+Momentum|epochs=36:  42%|████▏     | 15/36 [14:19<19:47, 56.54s/it]"
          ]
        },
        {
          "name": "stdout",
          "output_type": "stream",
          "text": [
            "TinyResNet|SGD+Momentum|epochs=36 | epoch 015/36 | train_loss=0.927 | val_acc=0.350\n"
          ]
        },
        {
          "name": "stderr",
          "output_type": "stream",
          "text": [
            "TinyResNet|SGD+Momentum|epochs=36:  44%|████▍     | 16/36 [15:13<18:35, 55.77s/it]"
          ]
        },
        {
          "name": "stdout",
          "output_type": "stream",
          "text": [
            "TinyResNet|SGD+Momentum|epochs=36 | epoch 016/36 | train_loss=0.895 | val_acc=0.543\n"
          ]
        },
        {
          "name": "stderr",
          "output_type": "stream",
          "text": [
            "TinyResNet|SGD+Momentum|epochs=36:  47%|████▋     | 17/36 [16:20<18:41, 59.03s/it]"
          ]
        },
        {
          "name": "stdout",
          "output_type": "stream",
          "text": [
            "TinyResNet|SGD+Momentum|epochs=36 | epoch 017/36 | train_loss=0.868 | val_acc=0.295\n"
          ]
        },
        {
          "name": "stderr",
          "output_type": "stream",
          "text": [
            "TinyResNet|SGD+Momentum|epochs=36:  50%|█████     | 18/36 [17:33<18:56, 63.12s/it]"
          ]
        },
        {
          "name": "stdout",
          "output_type": "stream",
          "text": [
            "TinyResNet|SGD+Momentum|epochs=36 | epoch 018/36 | train_loss=0.865 | val_acc=0.365\n"
          ]
        },
        {
          "name": "stderr",
          "output_type": "stream",
          "text": [
            "TinyResNet|SGD+Momentum|epochs=36:  53%|█████▎    | 19/36 [18:30<17:22, 61.34s/it]"
          ]
        },
        {
          "name": "stdout",
          "output_type": "stream",
          "text": [
            "TinyResNet|SGD+Momentum|epochs=36 | epoch 019/36 | train_loss=0.832 | val_acc=0.566\n"
          ]
        },
        {
          "name": "stderr",
          "output_type": "stream",
          "text": [
            "TinyResNet|SGD+Momentum|epochs=36:  56%|█████▌    | 20/36 [19:22<15:39, 58.73s/it]"
          ]
        },
        {
          "name": "stdout",
          "output_type": "stream",
          "text": [
            "TinyResNet|SGD+Momentum|epochs=36 | epoch 020/36 | train_loss=0.821 | val_acc=0.624\n"
          ]
        },
        {
          "name": "stderr",
          "output_type": "stream",
          "text": [
            "TinyResNet|SGD+Momentum|epochs=36:  58%|█████▊    | 21/36 [20:21<14:42, 58.82s/it]"
          ]
        },
        {
          "name": "stdout",
          "output_type": "stream",
          "text": [
            "TinyResNet|SGD+Momentum|epochs=36 | epoch 021/36 | train_loss=0.806 | val_acc=0.370\n"
          ]
        },
        {
          "name": "stderr",
          "output_type": "stream",
          "text": [
            "TinyResNet|SGD+Momentum|epochs=36:  61%|██████    | 22/36 [21:22<13:52, 59.46s/it]"
          ]
        },
        {
          "name": "stdout",
          "output_type": "stream",
          "text": [
            "TinyResNet|SGD+Momentum|epochs=36 | epoch 022/36 | train_loss=0.791 | val_acc=0.383\n"
          ]
        },
        {
          "name": "stderr",
          "output_type": "stream",
          "text": [
            "TinyResNet|SGD+Momentum|epochs=36:  64%|██████▍   | 23/36 [22:25<13:04, 60.37s/it]"
          ]
        },
        {
          "name": "stdout",
          "output_type": "stream",
          "text": [
            "TinyResNet|SGD+Momentum|epochs=36 | epoch 023/36 | train_loss=0.781 | val_acc=0.547\n"
          ]
        },
        {
          "name": "stderr",
          "output_type": "stream",
          "text": [
            "TinyResNet|SGD+Momentum|epochs=36:  67%|██████▋   | 24/36 [23:27<12:10, 60.87s/it]"
          ]
        },
        {
          "name": "stdout",
          "output_type": "stream",
          "text": [
            "TinyResNet|SGD+Momentum|epochs=36 | epoch 024/36 | train_loss=0.756 | val_acc=0.323\n"
          ]
        },
        {
          "name": "stderr",
          "output_type": "stream",
          "text": [
            "TinyResNet|SGD+Momentum|epochs=36:  69%|██████▉   | 25/36 [24:42<11:57, 65.18s/it]"
          ]
        },
        {
          "name": "stdout",
          "output_type": "stream",
          "text": [
            "TinyResNet|SGD+Momentum|epochs=36 | epoch 025/36 | train_loss=0.748 | val_acc=0.528\n"
          ]
        },
        {
          "name": "stderr",
          "output_type": "stream",
          "text": [
            "TinyResNet|SGD+Momentum|epochs=36:  72%|███████▏  | 26/36 [26:22<12:35, 75.52s/it]"
          ]
        },
        {
          "name": "stdout",
          "output_type": "stream",
          "text": [
            "TinyResNet|SGD+Momentum|epochs=36 | epoch 026/36 | train_loss=0.737 | val_acc=0.631\n"
          ]
        },
        {
          "name": "stderr",
          "output_type": "stream",
          "text": [
            "TinyResNet|SGD+Momentum|epochs=36:  75%|███████▌  | 27/36 [27:51<11:56, 79.66s/it]"
          ]
        },
        {
          "name": "stdout",
          "output_type": "stream",
          "text": [
            "TinyResNet|SGD+Momentum|epochs=36 | epoch 027/36 | train_loss=0.722 | val_acc=0.622\n"
          ]
        },
        {
          "name": "stderr",
          "output_type": "stream",
          "text": [
            "TinyResNet|SGD+Momentum|epochs=36:  78%|███████▊  | 28/36 [29:03<10:18, 77.29s/it]"
          ]
        },
        {
          "name": "stdout",
          "output_type": "stream",
          "text": [
            "TinyResNet|SGD+Momentum|epochs=36 | epoch 028/36 | train_loss=0.705 | val_acc=0.560\n"
          ]
        },
        {
          "name": "stderr",
          "output_type": "stream",
          "text": [
            "TinyResNet|SGD+Momentum|epochs=36:  81%|████████  | 29/36 [29:57<08:12, 70.35s/it]"
          ]
        },
        {
          "name": "stdout",
          "output_type": "stream",
          "text": [
            "TinyResNet|SGD+Momentum|epochs=36 | epoch 029/36 | train_loss=0.701 | val_acc=0.591\n"
          ]
        },
        {
          "name": "stderr",
          "output_type": "stream",
          "text": [
            "TinyResNet|SGD+Momentum|epochs=36:  83%|████████▎ | 30/36 [30:52<06:33, 65.66s/it]"
          ]
        },
        {
          "name": "stdout",
          "output_type": "stream",
          "text": [
            "TinyResNet|SGD+Momentum|epochs=36 | epoch 030/36 | train_loss=0.686 | val_acc=0.649\n"
          ]
        },
        {
          "name": "stderr",
          "output_type": "stream",
          "text": [
            "TinyResNet|SGD+Momentum|epochs=36:  86%|████████▌ | 31/36 [31:46<05:10, 62.14s/it]"
          ]
        },
        {
          "name": "stdout",
          "output_type": "stream",
          "text": [
            "TinyResNet|SGD+Momentum|epochs=36 | epoch 031/36 | train_loss=0.675 | val_acc=0.603\n"
          ]
        },
        {
          "name": "stderr",
          "output_type": "stream",
          "text": [
            "TinyResNet|SGD+Momentum|epochs=36:  89%|████████▉ | 32/36 [32:39<03:58, 59.65s/it]"
          ]
        },
        {
          "name": "stdout",
          "output_type": "stream",
          "text": [
            "TinyResNet|SGD+Momentum|epochs=36 | epoch 032/36 | train_loss=0.664 | val_acc=0.704\n"
          ]
        },
        {
          "name": "stderr",
          "output_type": "stream",
          "text": [
            "TinyResNet|SGD+Momentum|epochs=36:  92%|█████████▏| 33/36 [33:36<02:55, 58.59s/it]"
          ]
        },
        {
          "name": "stdout",
          "output_type": "stream",
          "text": [
            "TinyResNet|SGD+Momentum|epochs=36 | epoch 033/36 | train_loss=0.653 | val_acc=0.500\n"
          ]
        },
        {
          "name": "stderr",
          "output_type": "stream",
          "text": [
            "TinyResNet|SGD+Momentum|epochs=36:  94%|█████████▍| 34/36 [34:31<01:55, 57.69s/it]"
          ]
        },
        {
          "name": "stdout",
          "output_type": "stream",
          "text": [
            "TinyResNet|SGD+Momentum|epochs=36 | epoch 034/36 | train_loss=0.649 | val_acc=0.636\n"
          ]
        },
        {
          "name": "stderr",
          "output_type": "stream",
          "text": [
            "TinyResNet|SGD+Momentum|epochs=36:  97%|█████████▋| 35/36 [35:25<00:56, 56.48s/it]"
          ]
        },
        {
          "name": "stdout",
          "output_type": "stream",
          "text": [
            "TinyResNet|SGD+Momentum|epochs=36 | epoch 035/36 | train_loss=0.636 | val_acc=0.551\n"
          ]
        },
        {
          "name": "stderr",
          "output_type": "stream",
          "text": [
            "                                                                                  \r"
          ]
        },
        {
          "name": "stdout",
          "output_type": "stream",
          "text": [
            "TinyResNet|SGD+Momentum|epochs=36 | epoch 036/36 | train_loss=0.632 | val_acc=0.465\n",
            "  -> last epoch: train_loss=0.632 val_acc=0.465\n",
            "Running TinyResNet|AdamW|epochs=36 ...\n"
          ]
        },
        {
          "name": "stderr",
          "output_type": "stream",
          "text": [
            "TinyResNet|AdamW|epochs=36:   3%|▎         | 1/36 [00:59<34:47, 59.65s/it]"
          ]
        },
        {
          "name": "stdout",
          "output_type": "stream",
          "text": [
            "TinyResNet|AdamW|epochs=36 | epoch 001/36 | train_loss=1.727 | val_acc=0.349\n"
          ]
        },
        {
          "name": "stderr",
          "output_type": "stream",
          "text": [
            "TinyResNet|AdamW|epochs=36:   6%|▌         | 2/36 [01:51<31:14, 55.14s/it]"
          ]
        },
        {
          "name": "stdout",
          "output_type": "stream",
          "text": [
            "TinyResNet|AdamW|epochs=36 | epoch 002/36 | train_loss=1.365 | val_acc=0.430\n"
          ]
        },
        {
          "name": "stderr",
          "output_type": "stream",
          "text": [
            "TinyResNet|AdamW|epochs=36:   8%|▊         | 3/36 [02:42<29:19, 53.33s/it]"
          ]
        },
        {
          "name": "stdout",
          "output_type": "stream",
          "text": [
            "TinyResNet|AdamW|epochs=36 | epoch 003/36 | train_loss=1.221 | val_acc=0.496\n"
          ]
        },
        {
          "name": "stderr",
          "output_type": "stream",
          "text": [
            "TinyResNet|AdamW|epochs=36:  11%|█         | 4/36 [03:33<27:54, 52.34s/it]"
          ]
        },
        {
          "name": "stdout",
          "output_type": "stream",
          "text": [
            "TinyResNet|AdamW|epochs=36 | epoch 004/36 | train_loss=1.124 | val_acc=0.485\n"
          ]
        },
        {
          "name": "stderr",
          "output_type": "stream",
          "text": [
            "TinyResNet|AdamW|epochs=36:  14%|█▍        | 5/36 [04:24<26:48, 51.89s/it]"
          ]
        },
        {
          "name": "stdout",
          "output_type": "stream",
          "text": [
            "TinyResNet|AdamW|epochs=36 | epoch 005/36 | train_loss=1.055 | val_acc=0.567\n"
          ]
        },
        {
          "name": "stderr",
          "output_type": "stream",
          "text": [
            "TinyResNet|AdamW|epochs=36:  17%|█▋        | 6/36 [05:15<25:46, 51.57s/it]"
          ]
        },
        {
          "name": "stdout",
          "output_type": "stream",
          "text": [
            "TinyResNet|AdamW|epochs=36 | epoch 006/36 | train_loss=1.008 | val_acc=0.551\n"
          ]
        },
        {
          "name": "stderr",
          "output_type": "stream",
          "text": [
            "TinyResNet|AdamW|epochs=36:  19%|█▉        | 7/36 [06:07<24:56, 51.59s/it]"
          ]
        },
        {
          "name": "stdout",
          "output_type": "stream",
          "text": [
            "TinyResNet|AdamW|epochs=36 | epoch 007/36 | train_loss=0.962 | val_acc=0.367\n"
          ]
        },
        {
          "name": "stderr",
          "output_type": "stream",
          "text": [
            "TinyResNet|AdamW|epochs=36:  22%|██▏       | 8/36 [07:00<24:18, 52.08s/it]"
          ]
        },
        {
          "name": "stdout",
          "output_type": "stream",
          "text": [
            "TinyResNet|AdamW|epochs=36 | epoch 008/36 | train_loss=0.930 | val_acc=0.510\n"
          ]
        },
        {
          "name": "stderr",
          "output_type": "stream",
          "text": [
            "TinyResNet|AdamW|epochs=36:  25%|██▌       | 9/36 [07:51<23:20, 51.86s/it]"
          ]
        },
        {
          "name": "stdout",
          "output_type": "stream",
          "text": [
            "TinyResNet|AdamW|epochs=36 | epoch 009/36 | train_loss=0.893 | val_acc=0.564\n"
          ]
        },
        {
          "name": "stderr",
          "output_type": "stream",
          "text": [
            "TinyResNet|AdamW|epochs=36:  28%|██▊       | 10/36 [08:45<22:41, 52.35s/it]"
          ]
        },
        {
          "name": "stdout",
          "output_type": "stream",
          "text": [
            "TinyResNet|AdamW|epochs=36 | epoch 010/36 | train_loss=0.865 | val_acc=0.622\n"
          ]
        },
        {
          "name": "stderr",
          "output_type": "stream",
          "text": [
            "TinyResNet|AdamW|epochs=36:  31%|███       | 11/36 [09:37<21:50, 52.42s/it]"
          ]
        },
        {
          "name": "stdout",
          "output_type": "stream",
          "text": [
            "TinyResNet|AdamW|epochs=36 | epoch 011/36 | train_loss=0.834 | val_acc=0.479\n"
          ]
        },
        {
          "name": "stderr",
          "output_type": "stream",
          "text": [
            "TinyResNet|AdamW|epochs=36:  33%|███▎      | 12/36 [10:29<20:53, 52.25s/it]"
          ]
        },
        {
          "name": "stdout",
          "output_type": "stream",
          "text": [
            "TinyResNet|AdamW|epochs=36 | epoch 012/36 | train_loss=0.818 | val_acc=0.593\n"
          ]
        },
        {
          "name": "stderr",
          "output_type": "stream",
          "text": [
            "TinyResNet|AdamW|epochs=36:  36%|███▌      | 13/36 [14:16<40:18, 105.15s/it]"
          ]
        },
        {
          "name": "stdout",
          "output_type": "stream",
          "text": [
            "TinyResNet|AdamW|epochs=36 | epoch 013/36 | train_loss=0.789 | val_acc=0.607\n"
          ]
        },
        {
          "name": "stderr",
          "output_type": "stream",
          "text": [
            "TinyResNet|AdamW|epochs=36:  39%|███▉      | 14/36 [15:38<35:58, 98.11s/it] "
          ]
        },
        {
          "name": "stdout",
          "output_type": "stream",
          "text": [
            "TinyResNet|AdamW|epochs=36 | epoch 014/36 | train_loss=0.774 | val_acc=0.625\n"
          ]
        },
        {
          "name": "stderr",
          "output_type": "stream",
          "text": [
            "TinyResNet|AdamW|epochs=36:  42%|████▏     | 15/36 [16:34<29:57, 85.58s/it]"
          ]
        },
        {
          "name": "stdout",
          "output_type": "stream",
          "text": [
            "TinyResNet|AdamW|epochs=36 | epoch 015/36 | train_loss=0.753 | val_acc=0.612\n"
          ]
        },
        {
          "name": "stderr",
          "output_type": "stream",
          "text": [
            "TinyResNet|AdamW|epochs=36:  44%|████▍     | 16/36 [17:28<25:21, 76.07s/it]"
          ]
        },
        {
          "name": "stdout",
          "output_type": "stream",
          "text": [
            "TinyResNet|AdamW|epochs=36 | epoch 016/36 | train_loss=0.733 | val_acc=0.634\n"
          ]
        },
        {
          "name": "stderr",
          "output_type": "stream",
          "text": [
            "TinyResNet|AdamW|epochs=36:  47%|████▋     | 17/36 [18:26<22:19, 70.52s/it]"
          ]
        },
        {
          "name": "stdout",
          "output_type": "stream",
          "text": [
            "TinyResNet|AdamW|epochs=36 | epoch 017/36 | train_loss=0.719 | val_acc=0.560\n"
          ]
        },
        {
          "name": "stderr",
          "output_type": "stream",
          "text": [
            "TinyResNet|AdamW|epochs=36:  50%|█████     | 18/36 [19:22<19:48, 66.04s/it]"
          ]
        },
        {
          "name": "stdout",
          "output_type": "stream",
          "text": [
            "TinyResNet|AdamW|epochs=36 | epoch 018/36 | train_loss=0.706 | val_acc=0.662\n"
          ]
        },
        {
          "name": "stderr",
          "output_type": "stream",
          "text": [
            "TinyResNet|AdamW|epochs=36:  53%|█████▎    | 19/36 [20:15<17:35, 62.09s/it]"
          ]
        },
        {
          "name": "stdout",
          "output_type": "stream",
          "text": [
            "TinyResNet|AdamW|epochs=36 | epoch 019/36 | train_loss=0.691 | val_acc=0.627\n"
          ]
        },
        {
          "name": "stderr",
          "output_type": "stream",
          "text": [
            "TinyResNet|AdamW|epochs=36:  56%|█████▌    | 20/36 [21:08<15:53, 59.61s/it]"
          ]
        },
        {
          "name": "stdout",
          "output_type": "stream",
          "text": [
            "TinyResNet|AdamW|epochs=36 | epoch 020/36 | train_loss=0.674 | val_acc=0.622\n"
          ]
        },
        {
          "name": "stderr",
          "output_type": "stream",
          "text": [
            "TinyResNet|AdamW|epochs=36:  58%|█████▊    | 21/36 [21:59<14:13, 56.87s/it]"
          ]
        },
        {
          "name": "stdout",
          "output_type": "stream",
          "text": [
            "TinyResNet|AdamW|epochs=36 | epoch 021/36 | train_loss=0.660 | val_acc=0.644\n"
          ]
        },
        {
          "name": "stderr",
          "output_type": "stream",
          "text": [
            "TinyResNet|AdamW|epochs=36:  61%|██████    | 22/36 [22:49<12:48, 54.92s/it]"
          ]
        },
        {
          "name": "stdout",
          "output_type": "stream",
          "text": [
            "TinyResNet|AdamW|epochs=36 | epoch 022/36 | train_loss=0.646 | val_acc=0.693\n"
          ]
        },
        {
          "name": "stderr",
          "output_type": "stream",
          "text": [
            "TinyResNet|AdamW|epochs=36:  64%|██████▍   | 23/36 [23:40<11:38, 53.70s/it]"
          ]
        },
        {
          "name": "stdout",
          "output_type": "stream",
          "text": [
            "TinyResNet|AdamW|epochs=36 | epoch 023/36 | train_loss=0.636 | val_acc=0.633\n"
          ]
        },
        {
          "name": "stderr",
          "output_type": "stream",
          "text": [
            "TinyResNet|AdamW|epochs=36:  67%|██████▋   | 24/36 [24:33<10:40, 53.35s/it]"
          ]
        },
        {
          "name": "stdout",
          "output_type": "stream",
          "text": [
            "TinyResNet|AdamW|epochs=36 | epoch 024/36 | train_loss=0.630 | val_acc=0.645\n"
          ]
        },
        {
          "name": "stderr",
          "output_type": "stream",
          "text": [
            "TinyResNet|AdamW|epochs=36:  69%|██████▉   | 25/36 [25:25<09:43, 53.02s/it]"
          ]
        },
        {
          "name": "stdout",
          "output_type": "stream",
          "text": [
            "TinyResNet|AdamW|epochs=36 | epoch 025/36 | train_loss=0.614 | val_acc=0.690\n"
          ]
        },
        {
          "name": "stderr",
          "output_type": "stream",
          "text": [
            "TinyResNet|AdamW|epochs=36:  72%|███████▏  | 26/36 [26:17<08:47, 52.76s/it]"
          ]
        },
        {
          "name": "stdout",
          "output_type": "stream",
          "text": [
            "TinyResNet|AdamW|epochs=36 | epoch 026/36 | train_loss=0.600 | val_acc=0.592\n"
          ]
        },
        {
          "name": "stderr",
          "output_type": "stream",
          "text": [
            "TinyResNet|AdamW|epochs=36:  75%|███████▌  | 27/36 [27:09<07:53, 52.57s/it]"
          ]
        },
        {
          "name": "stdout",
          "output_type": "stream",
          "text": [
            "TinyResNet|AdamW|epochs=36 | epoch 027/36 | train_loss=0.598 | val_acc=0.610\n"
          ]
        },
        {
          "name": "stderr",
          "output_type": "stream",
          "text": [
            "TinyResNet|AdamW|epochs=36:  78%|███████▊  | 28/36 [28:01<06:57, 52.24s/it]"
          ]
        },
        {
          "name": "stdout",
          "output_type": "stream",
          "text": [
            "TinyResNet|AdamW|epochs=36 | epoch 028/36 | train_loss=0.585 | val_acc=0.579\n"
          ]
        },
        {
          "name": "stderr",
          "output_type": "stream",
          "text": [
            "TinyResNet|AdamW|epochs=36:  81%|████████  | 29/36 [28:53<06:06, 52.40s/it]"
          ]
        },
        {
          "name": "stdout",
          "output_type": "stream",
          "text": [
            "TinyResNet|AdamW|epochs=36 | epoch 029/36 | train_loss=0.578 | val_acc=0.707\n"
          ]
        },
        {
          "name": "stderr",
          "output_type": "stream",
          "text": [
            "TinyResNet|AdamW|epochs=36:  83%|████████▎ | 30/36 [29:49<05:20, 53.43s/it]"
          ]
        },
        {
          "name": "stdout",
          "output_type": "stream",
          "text": [
            "TinyResNet|AdamW|epochs=36 | epoch 030/36 | train_loss=0.573 | val_acc=0.704\n"
          ]
        },
        {
          "name": "stderr",
          "output_type": "stream",
          "text": [
            "TinyResNet|AdamW|epochs=36:  86%|████████▌ | 31/36 [30:42<04:25, 53.15s/it]"
          ]
        },
        {
          "name": "stdout",
          "output_type": "stream",
          "text": [
            "TinyResNet|AdamW|epochs=36 | epoch 031/36 | train_loss=0.559 | val_acc=0.682\n"
          ]
        },
        {
          "name": "stderr",
          "output_type": "stream",
          "text": [
            "TinyResNet|AdamW|epochs=36:  89%|████████▉ | 32/36 [31:34<03:31, 52.75s/it]"
          ]
        },
        {
          "name": "stdout",
          "output_type": "stream",
          "text": [
            "TinyResNet|AdamW|epochs=36 | epoch 032/36 | train_loss=0.555 | val_acc=0.721\n"
          ]
        },
        {
          "name": "stderr",
          "output_type": "stream",
          "text": [
            "TinyResNet|AdamW|epochs=36:  92%|█████████▏| 33/36 [32:26<02:37, 52.61s/it]"
          ]
        },
        {
          "name": "stdout",
          "output_type": "stream",
          "text": [
            "TinyResNet|AdamW|epochs=36 | epoch 033/36 | train_loss=0.538 | val_acc=0.700\n"
          ]
        },
        {
          "name": "stderr",
          "output_type": "stream",
          "text": [
            "TinyResNet|AdamW|epochs=36:  94%|█████████▍| 34/36 [33:17<01:44, 52.30s/it]"
          ]
        },
        {
          "name": "stdout",
          "output_type": "stream",
          "text": [
            "TinyResNet|AdamW|epochs=36 | epoch 034/36 | train_loss=0.535 | val_acc=0.596\n"
          ]
        },
        {
          "name": "stderr",
          "output_type": "stream",
          "text": [
            "TinyResNet|AdamW|epochs=36:  97%|█████████▋| 35/36 [34:10<00:52, 52.27s/it]"
          ]
        },
        {
          "name": "stdout",
          "output_type": "stream",
          "text": [
            "TinyResNet|AdamW|epochs=36 | epoch 035/36 | train_loss=0.533 | val_acc=0.677\n"
          ]
        },
        {
          "name": "stderr",
          "output_type": "stream",
          "text": [
            "                                                                           \r"
          ]
        },
        {
          "name": "stdout",
          "output_type": "stream",
          "text": [
            "TinyResNet|AdamW|epochs=36 | epoch 036/36 | train_loss=0.525 | val_acc=0.629\n",
            "  -> last epoch: train_loss=0.525 val_acc=0.629\n",
            "Saved: reports/scaling_validation_v3/week5_long_run_summaries.csv\n"
          ]
        }
      ],
      "source": [
        "# --- Run experiments ---\n",
        "\n",
        "History = Dict[str, List[Dict[str, Any]]]\n",
        "histories: History = {}\n",
        "final_rows: List[Dict[str, Any]] = []\n",
        "\n",
        "for model_name, model_ctor in models:\n",
        "\tfor opt_cfg in optimizers:\n",
        "\t\tconfig_id = f\"{model_name}|{opt_cfg['name']}|epochs={max_epochs}\"\n",
        "\t\tprint(f\"Running {config_id} ...\")\n",
        "\t\tmodel = model_ctor(num_classes=(int(base_dataset.y.max()) + 1) if hasattr(base_dataset, \"y\") else 10).to(device)\n",
        "\t\toptimizer = make_optimizer(model, opt_cfg[\"name\"], lr=opt_cfg[\"lr\"], weight_decay=weight_decay)\n",
        "\t\ttrain_hist: List[Dict[str, Any]] = []\n",
        "\t\tfor ep in range(1, max_epochs + 1):\n",
        "\t\t\tloss_tr, acc_tr = train_epoch(model, train_loader, optimizer, smoothing=label_smoothing)\n",
        "\t\t\tval_metrics = evaluate(model, val_loader, smoothing=label_smoothing)\n",
        "\t\t\ttrain_hist.append({\n",
        "\t\t\t\t\"epoch\": ep,\n",
        "\t\t\t\t\"train_loss\": loss_tr,\n",
        "\t\t\t\t\"train_acc\": acc_tr,\n",
        "\t\t\t\t\"val_loss\": val_metrics[\"loss\"],\n",
        "\t\t\t\t\"val_acc\": val_metrics[\"accuracy\"],\n",
        "\t\t\t})\n",
        "\t\tprint(f\"  -> last epoch: train_loss={train_hist[-1]['train_loss']:.3f} val_acc={train_hist[-1]['val_acc']:.3f}\")\n",
        "\t\t# Final test\n",
        "\t\ttest_metrics = evaluate(model, test_loader, smoothing=label_smoothing)\n",
        "\t\thistories[config_id] = train_hist\n",
        "\t\tfinal_rows.append({\n",
        "\t\t\t\"config_id\": config_id,\n",
        "\t\t\t\"model\": model_name,\n",
        "\t\t\t\"optimizer\": opt_cfg[\"name\"],\n",
        "\t\t\t\"epochs\": max_epochs,\n",
        "\t\t\t\"val_accuracy\": train_hist[-1][\"val_acc\"],\n",
        "\t\t\t\"val_loss\": train_hist[-1][\"val_loss\"],\n",
        "\t\t\t\"test_accuracy\": test_metrics[\"accuracy\"],\n",
        "\t\t\t\"test_loss\": test_metrics[\"loss\"],\n",
        "\t\t})\n",
        "\n",
        "results_df = pd.DataFrame(final_rows)\n",
        "results_csv = OUTPUT_DIR / \"week5_long_run_summaries.csv\"\n",
        "results_df.to_csv(results_csv, index=False)\n",
        "print(f\"Saved: {results_csv}\")\n"
      ]
    },
    {
      "cell_type": "code",
      "execution_count": 8,
      "metadata": {},
      "outputs": [
        {
          "data": {
            "image/png": "[encoded data removed]",
            "text/plain": [
              "<Figure size 1200x720 with 1 Axes>"
            ]
          },
          "metadata": {},
          "output_type": "display_data"
        },
        {
          "data": {
            "image/png": "[encoded data removed]",
            "text/plain": [
              "<Figure size 1200x720 with 1 Axes>"
            ]
          },
          "metadata": {},
          "output_type": "display_data"
        },
        {
          "data": {
            "image/png": "[encoded data removed]",
            "text/plain": [
              "<Figure size 1440x600 with 2 Axes>"
            ]
          },
          "metadata": {},
          "output_type": "display_data"
        },
        {
          "name": "stdout",
          "output_type": "stream",
          "text": [
            "Saved plots: reports/scaling_validation_v3/week5_plots/week5_val_accuracy_curves.png reports/scaling_validation_v3/week5_plots/week5_val_loss_curves.png reports/scaling_validation_v3/week5_plots/week5_final_metrics.png\n"
          ]
        }
      ],
      "source": [
        "# --- Plots: accuracy/loss curves and final bars ---\n",
        "\n",
        "# Accuracy/Loss curves per config\n",
        "plt.figure(figsize=(10, 6))\n",
        "for config_id, hist in histories.items():\n",
        "\tepochs = [h[\"epoch\"] for h in hist]\n",
        "\tval_acc = [h[\"val_acc\"] for h in hist]\n",
        "\tplt.plot(epochs, val_acc, marker=\"o\", label=config_id)\n",
        "plt.title(\"Validation Accuracy vs Epochs (Long Runs)\")\n",
        "plt.xlabel(\"Epoch\")\n",
        "plt.ylabel(\"Val Accuracy\")\n",
        "plt.legend(bbox_to_anchor=(1.02, 1), loc=\"upper left\")\n",
        "plt.tight_layout()\n",
        "acc_path = PLOT_DIR / \"week5_val_accuracy_curves.png\"\n",
        "plt.savefig(acc_path, dpi=160)\n",
        "plt.show()\n",
        "\n",
        "plt.figure(figsize=(10, 6))\n",
        "for config_id, hist in histories.items():\n",
        "\tepochs = [h[\"epoch\"] for h in hist]\n",
        "\tval_loss = [h[\"val_loss\"] for h in hist]\n",
        "\tplt.plot(epochs, val_loss, marker=\"o\", label=config_id)\n",
        "plt.title(\"Validation Loss vs Epochs (Long Runs)\")\n",
        "plt.xlabel(\"Epoch\")\n",
        "plt.ylabel(\"Val Loss\")\n",
        "plt.legend(bbox_to_anchor=(1.02, 1), loc=\"upper left\")\n",
        "plt.tight_layout()\n",
        "loss_path = PLOT_DIR / \"week5_val_loss_curves.png\"\n",
        "plt.savefig(loss_path, dpi=160)\n",
        "plt.show()\n",
        "\n",
        "# Final metric bars\n",
        "fig, axes = plt.subplots(1, 2, figsize=(12, 5))\n",
        "sns.barplot(data=results_df, x=\"optimizer\", y=\"val_accuracy\", hue=\"model\", ax=axes[0])\n",
        "axes[0].set_title(\"Final Val Accuracy by Optimizer and Model\")\n",
        "sns.barplot(data=results_df, x=\"optimizer\", y=\"test_accuracy\", hue=\"model\", ax=axes[1])\n",
        "axes[1].set_title(\"Final Test Accuracy by Optimizer and Model\")\n",
        "plt.tight_layout()\n",
        "bar_path = PLOT_DIR / \"week5_final_metrics.png\"\n",
        "plt.savefig(bar_path, dpi=160)\n",
        "plt.show()\n",
        "\n",
        "print(\"Saved plots:\", acc_path, loss_path, bar_path)\n"
      ]
    },
    {
      "cell_type": "markdown",
      "metadata": {},
      "source": [
        "### Weekly Workflow Template\n",
        "\n",
        "- Duplicate this notebook for Week 6 (e.g., `week6_research.ipynb`).\n",
        "- Update `max_epochs`, dataset size, and add any new optimizers/schedules.\n",
        "- Keep exporting plots to `reports/scaling_validation_v3/week{N}_plots/` for consistent Notion uploads.\n",
        "- Optional: append results to a master CSV for longitudinal tracking.\n"
      ]
    }
  ],
  "metadata": {
    "kernelspec": {
      "display_name": "base",
      "language": "python",
      "name": "python3"
    },
    "language_info": {
      "codemirror_mode": {
        "name": "ipython",
        "version": 3
      },
      "file_extension": ".py",
      "mimetype": "text/x-python",
      "name": "python",
      "nbconvert_exporter": "python",
      "pygments_lexer": "ipython3",
      "version": "3.12.6"
    }
  },
  "nbformat": 4,
  "nbformat_minor": 2
}
